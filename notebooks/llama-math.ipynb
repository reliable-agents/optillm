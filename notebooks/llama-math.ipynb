{
 "cells": [
  {
   "cell_type": "code",
   "execution_count": 2,
   "metadata": {},
   "outputs": [],
   "source": [
    "from transformers import AutoTokenizer\n",
    "import torch\n",
    "from datasets import load_dataset\n",
    "from vllm import LLM, SamplingParams"
   ]
  },
  {
   "cell_type": "code",
   "execution_count": 3,
   "metadata": {},
   "outputs": [],
   "source": [
    "model_id = \"meta-llama/Llama-3.2-1B-Instruct\"\n",
    "tokenizer = AutoTokenizer.from_pretrained(model_id)"
   ]
  },
  {
   "cell_type": "code",
   "execution_count": 4,
   "metadata": {},
   "outputs": [
    {
     "name": "stdout",
     "output_type": "stream",
     "text": [
      "WARNING 10-08 23:32:01 arg_utils.py:930] Chunked prefill is enabled by default for models with max_model_len > 32K. Currently, chunked prefill might not work with some features or models. If you encounter any issues, please disable chunked prefill by setting --enable-chunked-prefill=False.\n",
      "INFO 10-08 23:32:01 config.py:1010] Chunked prefill is enabled with max_num_batched_tokens=512.\n",
      "INFO 10-08 23:32:01 llm_engine.py:226] Initializing an LLM engine (v0.6.1.dev238+ge2c6e0a82) with config: model='meta-llama/Llama-3.2-1B-Instruct', speculative_config=None, tokenizer='meta-llama/Llama-3.2-1B-Instruct', skip_tokenizer_init=False, tokenizer_mode=auto, revision=None, override_neuron_config=None, rope_scaling=None, rope_theta=None, tokenizer_revision=None, trust_remote_code=False, dtype=torch.bfloat16, max_seq_len=131072, download_dir=None, load_format=LoadFormat.AUTO, tensor_parallel_size=1, pipeline_parallel_size=1, disable_custom_all_reduce=False, quantization=None, enforce_eager=False, kv_cache_dtype=auto, quantization_param_path=None, device_config=cuda, decoding_config=DecodingConfig(guided_decoding_backend='outlines'), observability_config=ObservabilityConfig(otlp_traces_endpoint=None, collect_model_forward_time=False, collect_model_execute_time=False), seed=0, served_model_name=meta-llama/Llama-3.2-1B-Instruct, use_v2_block_manager=False, num_scheduler_steps=1, multi_step_stream_outputs=False, enable_prefix_caching=False, use_async_output_proc=True, use_cached_outputs=False, mm_processor_kwargs=None)\n",
      "INFO 10-08 23:32:02 model_runner.py:1014] Starting to load model meta-llama/Llama-3.2-1B-Instruct...\n",
      "INFO 10-08 23:32:03 weight_utils.py:242] Using model weights format ['*.safetensors']\n",
      "INFO 10-08 23:32:03 weight_utils.py:287] No model.safetensors.index.json found in remote.\n"
     ]
    },
    {
     "data": {
      "application/vnd.jupyter.widget-view+json": {
       "model_id": "35e58af9fd00472196e1a7aa10bd3bef",
       "version_major": 2,
       "version_minor": 0
      },
      "text/plain": [
       "Loading safetensors checkpoint shards:   0% Completed | 0/1 [00:00<?, ?it/s]\n"
      ]
     },
     "metadata": {},
     "output_type": "display_data"
    },
    {
     "name": "stdout",
     "output_type": "stream",
     "text": [
      "INFO 10-08 23:32:07 model_runner.py:1025] Loading model weights took 2.3185 GB\n",
      "INFO 10-08 23:32:08 gpu_executor.py:122] # GPU blocks: 138591, # CPU blocks: 8192\n",
      "INFO 10-08 23:32:09 model_runner.py:1329] Capturing the model for CUDA graphs. This may lead to unexpected consequences if the model is not static. To run the model in eager mode, set 'enforce_eager=True' or use '--enforce-eager' in the CLI.\n",
      "INFO 10-08 23:32:09 model_runner.py:1333] CUDA graphs can take additional 1~3 GiB memory per GPU. If you are running out of memory, consider decreasing `gpu_memory_utilization` or enforcing eager mode. You can also reduce the `max_num_seqs` as needed to decrease memory usage.\n",
      "INFO 10-08 23:32:21 model_runner.py:1456] Graph capturing finished in 12 secs.\n"
     ]
    }
   ],
   "source": [
    "llm = LLM(model=model_id)"
   ]
  },
  {
   "cell_type": "code",
   "execution_count": 36,
   "metadata": {},
   "outputs": [],
   "source": [
    "ds = load_dataset(\"lighteval/MATH\", split=\"test\")\n",
    "ds = ds.shuffle(seed=42).select(range(1000))"
   ]
  },
  {
   "cell_type": "markdown",
   "metadata": {},
   "source": [
    "## Greedy"
   ]
  },
  {
   "cell_type": "code",
   "execution_count": null,
   "metadata": {},
   "outputs": [],
   "source": [
    "sampling_params = SamplingParams(temperature=0., max_tokens=2048, seed=42)"
   ]
  },
  {
   "cell_type": "code",
   "execution_count": 20,
   "metadata": {},
   "outputs": [
    {
     "name": "stdout",
     "output_type": "stream",
     "text": [
      "<|begin_of_text|><|start_header_id|>system<|end_header_id|>\n",
      "\n",
      "Cutting Knowledge Date: December 2023\n",
      "Today Date: 08 Oct 2024\n",
      "\n",
      "Solve the following math problem step-by-step.\n",
      "Simplify your answer as much as possible. Present your final answer as \\boxed{Your Answer}.<|eot_id|><|start_header_id|>user<|end_header_id|>\n",
      "\n",
      "Bin $A$ has one white ball and four black balls.  Bin $B$ has three balls labeled $\\$1$ and one ball labeled $\\$7$.  Bin $W$ has five balls labeled $\\$8$ and one ball labeled $\\$500$.  A game is played as follows: a ball is randomly selected from bin $A$.  If it is black, then a ball is randomly selected from bin $B$; otherwise, if the original ball is white, then a ball is randomly selected from bin $W$.  You win the amount printed on the second ball selected.  What is your expected win?<|eot_id|><|start_header_id|>assistant<|end_header_id|>\n",
      "\n",
      "\n"
     ]
    },
    {
     "name": "stderr",
     "output_type": "stream",
     "text": [
      "Processed prompts: 100%|█| 1000/1000 [00:58<00:00, 17.01it/s, est. speed input: 2284.08 toks/s, outpu"
     ]
    },
    {
     "name": "stdout",
     "output_type": "stream",
     "text": [
      "Accuracy for system prompt: 0.811\n"
     ]
    },
    {
     "name": "stderr",
     "output_type": "stream",
     "text": [
      "\n"
     ]
    }
   ],
   "source": [
    "# Accuracy for system prompt\n",
    "system_prompt = \"Solve the following math problem step-by-step.\\nSimplify your answer as much as possible. Present your final answer as \\\\boxed{Your Answer}.\"\n",
    "tmp_ds = ds.map(lambda x : {\"prompt\": tokenizer.apply_chat_template([{\"role\": \"system\", \"content\": system_prompt}, {\"role\": \"user\", \"content\": x[\"problem\"]}], tokenize=False, add_generation_prompt=True)})\n",
    "print(tmp_ds[0][\"prompt\"])\n",
    "outputs = llm.generate(tmp_ds[\"prompt\"][:], sampling_params)\n",
    "solutions = [i.outputs[0].text for i in outputs]\n",
    "is_boxed = [True if \"boxed{\" in i else False for i in solutions]\n",
    "acc = sum(is_boxed) / len(is_boxed)\n",
    "print(f\"Accuracy for system prompt: {acc}\")"
   ]
  },
  {
   "cell_type": "code",
   "execution_count": 23,
   "metadata": {},
   "outputs": [
    {
     "name": "stdout",
     "output_type": "stream",
     "text": [
      "Prompt: <|begin_of_text|><|start_header_id|>system<|end_header_id|>\n",
      "\n",
      "Cutting Knowledge Date: December 2023\n",
      "Today Date: 08 Oct 2024\n",
      "\n",
      "Solve the following math problem step-by-step.\n",
      "Simplify your answer as much as possible. Present your final answer as \\boxed{Your Answer}.<|eot_id|><|start_header_id|>user<|end_header_id|>\n",
      "\n",
      "Find the positive base $b$ in which the equation $4 \\cdot 12 = 103$ is valid.<|eot_id|><|start_header_id|>assistant<|end_header_id|>\n",
      "\n",
      "\n",
      "Solution: ## Step 1: Understand the problem\n",
      "We need to find a base $b$ in which the equation $4 \\cdot 12 = 103$ is valid. This means we are looking for a base $b$ where the product of $4$ and $12$ equals $103$.\n",
      "\n",
      "## Step 2: Convert the numbers to the same base\n",
      "To solve this problem, we need to convert both $4$ and $12$ to the same base. The number $12$ can be written as $10$ in base $b$. Therefore, we can rewrite the equation as $4 \\cdot 10_b = 103$.\n",
      "\n",
      "## Step 3: Rewrite the equation\n",
      "We can rewrite the equation as $40_b = 103$.\n",
      "\n",
      "## Step 4: Convert the equation to base 10\n",
      "To solve for $b$, we need to convert the equation to base 10. We can do this by multiplying both sides of the equation by the base $b$ to get $40b = 103b$.\n",
      "\n",
      "## Step 5: Solve for b\n",
      "Now we can solve for $b$ by subtracting $40b$ from both sides of the equation to get $0 = 63b$. Then, we can divide both sides by $63$ to get $b = 0$.\n",
      "\n",
      "## Step 6: Check the result\n",
      "However, $b$ cannot be $0$ because it is the base of a number system. Therefore, we need to re-examine our steps.\n",
      "\n",
      "## Step 7: Re-examine the steps\n",
      "Upon re-examining our steps, we realize that we made an error in our conversion. We should have converted $12$ to base $b$ as $12 = 1b^1 + 2b^0$. Therefore, we can rewrite the equation as $4 \\cdot (1b^1 + 2b^0) = 103$.\n",
      "\n",
      "## Step 8: Rewrite the equation\n",
      "We can rewrite the equation as $4b + 8 = 103$.\n",
      "\n",
      "## Step 9: Solve for b\n",
      "Now we can solve for $b$ by subtracting $8$ from both sides of the equation to get $4b = 95$.\n",
      "\n",
      "## Step 10: Solve for b\n",
      "Finally, we can divide both sides of the equation by $4$ to get $b = 23.75$.\n",
      "\n",
      "## Step 11: Check the result\n",
      "However, $b$ cannot be a decimal. Therefore, we need to re-examine our steps.\n",
      "\n",
      "## Step 12: Re-examine the steps\n",
      "Upon re-examining our steps, we realize that we made an error in our conversion. We should have converted $12$ to base $b$ as $12 = 1b^1 + 2b^0$. Therefore, we can rewrite the equation as $4 \\cdot (1b^1 + 2b^0) = 103$.\n",
      "\n",
      "## Step 13: Rewrite the equation\n",
      "We can rewrite the equation as $4b + 8 = 103$.\n",
      "\n",
      "## Step 14: Solve for b\n",
      "Now we can solve for $b$ by subtracting $8$ from both sides of the equation to get $4b = 95$.\n",
      "\n",
      "## Step 15: Solve for b\n",
      "Finally, we can divide both sides of the equation by $4$ to get $b = 23.75$.\n",
      "\n",
      "## Step 16: Check the result\n",
      "However, $b$ cannot be a decimal. Therefore, we need to re-examine our steps.\n",
      "\n",
      "## Step 17: Re-examine the steps\n",
      "Upon re-examining our steps, we realize that we made an error in our conversion. We should have converted $12$ to base $b$ as $12 = 1b^1 + 2b^0$. Therefore, we can rewrite the equation as $4 \\cdot (1b^1 + 2b^0) = 103$.\n",
      "\n",
      "## Step 18: Rewrite the equation\n",
      "We can rewrite the equation as $4b + 8 = 103$.\n",
      "\n",
      "## Step 19: Solve for b\n",
      "Now we can solve for $b$ by subtracting $8$ from both sides of the equation to get $4b = 95$.\n",
      "\n",
      "## Step 20: Solve for b\n",
      "Finally, we can divide both sides of the equation by $4$ to get $b = 23.75$.\n",
      "\n",
      "## Step 21: Check the result\n",
      "However, $b$ cannot be a decimal. Therefore, we need to re-examine our steps.\n",
      "\n",
      "## Step 22: Re-examine the steps\n",
      "Upon re-examining our steps, we realize that we made an error in our conversion. We should have converted $12$ to base $b$ as $12 = 1b^1 + 2b^0$. Therefore, we can rewrite the equation as $4 \\cdot (1b^1 + 2b^0) = 103$.\n",
      "\n",
      "## Step 23: Rewrite the equation\n",
      "We can rewrite the equation as $4b + 8 = 103$.\n",
      "\n",
      "## Step 24: Solve for b\n",
      "Now we can solve for $b$ by subtracting $8$ from both sides of the equation to get $4b = 95$.\n",
      "\n",
      "## Step 25: Solve for b\n",
      "Finally, we can divide both sides of the equation by $4$ to get $b = 23.75$.\n",
      "\n",
      "## Step 26: Check the result\n",
      "However, $b$ cannot be a decimal. Therefore, we need to re-examine our steps.\n",
      "\n",
      "## Step 27: Re-examine the steps\n",
      "Upon re-examining our steps, we realize that we made an error in our conversion. We should have converted $12$ to base $b$ as $12 = 1b^1 + 2b^0$. Therefore, we can rewrite the equation as $4 \\cdot (1b^1 + 2b^0) = 103$.\n",
      "\n",
      "## Step 28: Rewrite the equation\n",
      "We can rewrite the equation as $4b + 8 = 103$.\n",
      "\n",
      "## Step 29: Solve for b\n",
      "Now we can solve for $b$ by subtracting $8$ from both sides of the equation to get $4b = 95$.\n",
      "\n",
      "## Step 30: Solve for b\n",
      "Finally, we can divide both sides of the equation by $4$ to get $b = 23.75$.\n",
      "\n",
      "## Step 31: Check the result\n",
      "However, $b$ cannot be a decimal. Therefore, we need to re-examine our steps.\n",
      "\n",
      "## Step 32: Re-examine the steps\n",
      "Upon re-examining our steps, we realize that we made an error in our conversion. We should have converted $12$ to base $b$ as $12 = 1b^1 + 2b^0$. Therefore, we can rewrite the equation as $4 \\cdot (1b^1 + 2b^0) = 103$.\n",
      "\n",
      "## Step 33: Rewrite the equation\n",
      "We can rewrite the equation as $4b + 8 = 103$.\n",
      "\n",
      "## Step 34: Solve for b\n",
      "Now we can solve for $b$ by subtracting $8$ from both sides of the equation to get $4b = 95$.\n",
      "\n",
      "## Step 35: Solve for b\n",
      "Finally, we can divide both sides of the equation by $4$ to get $b = 23.75$.\n",
      "\n",
      "## Step 36: Check the result\n",
      "However, $b$ cannot be a decimal. Therefore, we need to re-examine our steps.\n",
      "\n",
      "## Step 37: Re-examine the steps\n",
      "Upon re-examining our steps, we realize that we made an error in our conversion. We should have converted $12$ to base $b$ as $12 = 1b^1 + 2b^0$. Therefore, we can rewrite the equation as $4 \\cdot (1b^1 + 2b^0) = 103$.\n",
      "\n",
      "## Step 38: Rewrite the equation\n",
      "We can rewrite the equation as $4b + 8 = 103$.\n",
      "\n",
      "## Step 39: Solve for b\n",
      "Now we can solve for $b$ by subtracting $8$ from both sides of the equation to get $4b = 95$.\n",
      "\n",
      "## Step 40: Solve for b\n",
      "Finally, we can divide both sides of the equation by $4$ to get $b = 23.75$.\n",
      "\n",
      "## Step 41: Check the result\n",
      "However, $b$ cannot be a decimal. Therefore, we need to re-examine our steps.\n",
      "\n",
      "## Step 42: Re-examine the steps\n",
      "Upon re-examining our steps, we realize that we made an error in our conversion. We should have converted $12$ to base $b$ as $12 = 1b^1 + 2b^0$. Therefore, we can rewrite the equation as $4 \\cdot (1b^1 + 2b^0) = 103$.\n",
      "\n",
      "## Step 43: Rewrite the equation\n",
      "We can rewrite the equation as $4b + 8 = 103$.\n",
      "\n",
      "## Step 44: Solve for b\n",
      "Now we can solve for $b$ by subtracting $8$ from both sides of the equation to get $4b = 95$.\n",
      "\n",
      "## Step 45: Solve for b\n",
      "Finally, we can divide both sides of the equation by $4$ to get $b = 23.75$.\n",
      "\n",
      "## Step 46: Check the result\n",
      "However, $b$ cannot be a decimal. Therefore, we need to re-examine our steps.\n",
      "\n",
      "## Step 47: Re\n",
      "\n",
      "Prompt: <|begin_of_text|><|start_header_id|>system<|end_header_id|>\n",
      "\n",
      "Cutting Knowledge Date: December 2023\n",
      "Today Date: 08 Oct 2024\n",
      "\n",
      "Solve the following math problem step-by-step.\n",
      "Simplify your answer as much as possible. Present your final answer as \\boxed{Your Answer}.<|eot_id|><|start_header_id|>user<|end_header_id|>\n",
      "\n",
      "The sum of an infinite geometric series is a positive number $S$, and the second term in the series is $1$. What is the smallest possible value of $S?$<|eot_id|><|start_header_id|>assistant<|end_header_id|>\n",
      "\n",
      "\n",
      "Solution: ## Step 1: Recall the formula for the sum of an infinite geometric series\n",
      "The sum of an infinite geometric series is given by the formula $S = \\frac{a}{1 - r}$, where $a$ is the first term and $r$ is the common ratio.\n",
      "\n",
      "## Step 2: Use the given information to find the common ratio\n",
      "We are given that the second term in the series is $1$, so we can write the equation $ar = 1$, where $a$ is the first term and $r$ is the common ratio.\n",
      "\n",
      "## Step 3: Solve for the common ratio\n",
      "We can solve for $r$ by dividing both sides of the equation by $a$, giving $r = \\frac{1}{a}$.\n",
      "\n",
      "## Step 4: Substitute the expression for $r$ into the formula for the sum of an infinite geometric series\n",
      "Substituting $r = \\frac{1}{a}$ into the formula $S = \\frac{a}{1 - r}$ gives $S = \\frac{a}{1 - \\frac{1}{a}}$.\n",
      "\n",
      "## Step 5: Simplify the expression for $S$\n",
      "Simplifying the expression gives $S = \\frac{a}{\\frac{a - 1}{a}} = \\frac{a^2}{a - 1}$.\n",
      "\n",
      "## Step 6: Find the smallest possible value of $S$\n",
      "To find the smallest possible value of $S$, we need to find the smallest possible value of $a$ that makes $S$ positive. Since $a$ is a positive number, we can set $a = 1$ to get the smallest possible value of $S$.\n",
      "\n",
      "## Step 7: Substitute $a = 1$ into the expression for $S$\n",
      "Substituting $a = 1$ into the expression $S = \\frac{a^2}{a - 1}$ gives $S = \\frac{1^2}{1 - 1} = \\frac{1}{0}$, which is undefined.\n",
      "\n",
      "## Step 8: Consider the case where $a = 0$\n",
      "Since $a$ is a positive number, we can set $a = 0$ to get the smallest possible value of $S$.\n",
      "\n",
      "## Step 9: Substitute $a = 0$ into the expression for $S$\n",
      "Substituting $a = 0$ into the expression $S = \\frac{a^2}{a - 1}$ gives $S = \\frac{0^2}{0 - 1} = 0$.\n",
      "\n",
      "## Step 10: Consider the case where $a = 1$\n",
      "Since $a$ is a positive number, we can set $a = 1$ to get the smallest possible value of $S$.\n",
      "\n",
      "## Step 11: Substitute $a = 1$ into the expression for $S$\n",
      "Substituting $a = 1$ into the expression $S = \\frac{a^2}{a - 1}$ gives $S = \\frac{1^2}{1 - 1} = \\frac{1}{0}$, which is undefined.\n",
      "\n",
      "## Step 12: Consider the case where $a = 0$ and $r = 1$\n",
      "Since $a$ is a positive number and $r = \\frac{1}{a}$, we can set $a = 0$ and $r = 1$ to get the smallest possible value of $S$.\n",
      "\n",
      "## Step 13: Substitute $a = 0$ and $r = 1$ into the expression for $S$\n",
      "Substituting $a = 0$ and $r = 1$ into the expression $S = \\frac{a^2}{a - 1}$ gives $S = \\frac{0^2}{0 - 1} = 0$.\n",
      "\n",
      "## Step 14: Consider the case where $a = 1$ and $r = 1$\n",
      "Since $a$ is a positive number and $r = \\frac{1}{a}$, we can set $a = 1$ and $r = 1$ to get the smallest possible value of $S$.\n",
      "\n",
      "## Step 15: Substitute $a = 1$ and $r = 1$ into the expression for $S$\n",
      "Substituting $a = 1$ and $r = 1$ into the expression $S = \\frac{a^2}{a - 1}$ gives $S = \\frac{1^2}{1 - 1} = \\frac{1}{0}$, which is undefined.\n",
      "\n",
      "## Step 16: Consider the case where $a = 0$ and $r = 0$\n",
      "Since $a$ is a positive number and $r = \\frac{1}{a}$, we can set $a = 0$ and $r = 0$ to get the smallest possible value of $S$.\n",
      "\n",
      "## Step 17: Substitute $a = 0$ and $r = 0$ into the expression for $S$\n",
      "Substituting $a = 0$ and $r = 0$ into the expression $S = \\frac{a^2}{a - 1}$ gives $S = \\frac{0^2}{0 - 1} = 0$.\n",
      "\n",
      "## Step 18: Consider the case where $a = 1$ and $r = 0$\n",
      "Since $a$ is a positive number and $r = \\frac{1}{a}$, we can set $a = 1$ and $r = 0$ to get the smallest possible value of $S$.\n",
      "\n",
      "## Step 19: Substitute $a = 1$ and $r = 0$ into the expression for $S$\n",
      "Substituting $a = 1$ and $r = 0$ into the expression $S = \\frac{a^2}{a - 1}$ gives $S = \\frac{1^2}{1 - 1} = \\frac{1}{0}$, which is undefined.\n",
      "\n",
      "## Step 20: Consider the case where $a = 0$ and $r = 0$\n",
      "Since $a$ is a positive number and $r = \\frac{1}{a}$, we can set $a = 0$ and $r = 0$ to get the smallest possible value of $S$.\n",
      "\n",
      "## Step 21: Substitute $a = 0$ and $r = 0$ into the expression for $S$\n",
      "Substituting $a = 0$ and $r = 0$ into the expression $S = \\frac{a^2}{a - 1}$ gives $S = \\frac{0^2}{0 - 1} = 0$.\n",
      "\n",
      "## Step 22: Consider the case where $a = 1$ and $r = 0$\n",
      "Since $a$ is a positive number and $r = \\frac{1}{a}$, we can set $a = 1$ and $r = 0$ to get the smallest possible value of $S$.\n",
      "\n",
      "## Step 23: Substitute $a = 1$ and $r = 0$ into the expression for $S$\n",
      "Substituting $a = 1$ and $r = 0$ into the expression $S = \\frac{a^2}{a - 1}$ gives $S = \\frac{1^2}{1 - 1} = \\frac{1}{0}$, which is undefined.\n",
      "\n",
      "## Step 24: Consider the case where $a = 0$ and $r = 0$\n",
      "Since $a$ is a positive number and $r = \\frac{1}{a}$, we can set $a = 0$ and $r = 0$ to get the smallest possible value of $S$.\n",
      "\n",
      "## Step 25: Substitute $a = 0$ and $r = 0$ into the expression for $S$\n",
      "Substituting $a = 0$ and $r = 0$ into the expression $S = \\frac{a^2}{a - 1}$ gives $S = \\frac{0^2}{0 - 1} = 0$.\n",
      "\n",
      "## Step 26: Consider the case where $a = 1$ and $r = 0$\n",
      "Since $a$ is a positive number and $r = \\frac{1}{a}$, we can set $a = 1$ and $r = 0$ to get the smallest possible value of $S$.\n",
      "\n",
      "## Step 27: Substitute $a = 1$ and $r = 0$ into the expression for $S$\n",
      "Substituting $a = 1$ and $r = 0$ into the expression $S = \\frac{a^2}{a - 1}$ gives $S = \\frac{1^2}{1 - 1} = \\frac{1}{0}$, which is undefined.\n",
      "\n",
      "## Step 28: Consider the case where $a = 0$ and $r = 1$\n",
      "Since $a$ is a positive number and $r = \\frac{1}{a}$, we can set $a = 0$ and $r = 1$ to get the smallest possible value of $S$.\n",
      "\n",
      "## Step 29: Substitute $a = 0$ and $r = 1$ into the expression for $S$\n",
      "Substituting $a = 0$ and $r = 1$ into the expression $S = \\frac{a^2}{a - 1}$ gives $S = \\frac{0^2}{0 - 1} = 0$.\n",
      "\n",
      "## Step 30: Consider the case\n",
      "\n",
      "Prompt: <|begin_of_text|><|start_header_id|>system<|end_header_id|>\n",
      "\n",
      "Cutting Knowledge Date: December 2023\n",
      "Today Date: 08 Oct 2024\n",
      "\n",
      "Solve the following math problem step-by-step.\n",
      "Simplify your answer as much as possible. Present your final answer as \\boxed{Your Answer}.<|eot_id|><|start_header_id|>user<|end_header_id|>\n",
      "\n",
      "Let $(a_1,b_1),$ $(a_2,b_2),$ $\\dots,$ $(a_n,b_n)$ be all the ordered pairs $(a,b)$ of complex numbers with $a^2+b^2\\neq 0,$\n",
      "\\[a+\\frac{10b}{a^2+b^2}=5, \\quad \\text{and} \\quad b+\\frac{10a}{a^2+b^2}=4.\\]Find $a_1 + b_1 + a_2 + b_2 + \\dots + a_n + b_n.$<|eot_id|><|start_header_id|>assistant<|end_header_id|>\n",
      "\n",
      "\n",
      "Solution: ## Step 1: We are given two equations involving complex numbers $a$ and $b$.\n",
      "We have the equations $a+\\frac{10b}{a^2+b^2}=5$ and $b+\\frac{10a}{a^2+b^2}=4.$\n",
      "\n",
      "## Step 2: Multiply both sides of the first equation by $(a^2+b^2)$ to eliminate the fraction.\n",
      "Multiplying both sides of the first equation by $(a^2+b^2)$ gives us $(a^3 + 10b^2) = 5(a^2 + b^2).$\n",
      "\n",
      "## Step 3: Expand the equation from step 2.\n",
      "Expanding the equation gives us $a^3 + 10b^2 = 5a^2 + 5b^2.$\n",
      "\n",
      "## Step 4: Rearrange the equation from step 3 to get everything on one side.\n",
      "Rearranging the equation gives us $a^3 - 5a^2 + 5b^2 = 0.$\n",
      "\n",
      "## Step 5: Factor out $a^2$ from the equation in step 4.\n",
      "Factoring out $a^2$ gives us $a^2(a - 5) + 5b^2 = 0.$\n",
      "\n",
      "## Step 6: Subtract $5b^2$ from both sides of the equation in step 5.\n",
      "Subtracting $5b^2$ from both sides gives us $a^2(a - 5) = -5b^2.$\n",
      "\n",
      "## Step 7: Divide both sides of the equation in step 6 by $a^2$.\n",
      "Dividing both sides by $a^2$ gives us $a - 5 = -\\frac{5}{a^2}.$\n",
      "\n",
      "## Step 8: Add $\\frac{5}{a^2}$ to both sides of the equation in step 7.\n",
      "Adding $\\frac{5}{a^2}$ to both sides gives us $a - 5 + \\frac{5}{a^2} = 0.$\n",
      "\n",
      "## Step 9: Multiply both sides of the equation in step 8 by $a^2$.\n",
      "Multiplying both sides by $a^2$ gives us $a^3 - 5a^2 + 5 = 0.$\n",
      "\n",
      "## Step 10: Factor the equation in step 9.\n",
      "Factoring the equation gives us $(a - 5)(a^2 + 5) = 0.$\n",
      "\n",
      "## Step 11: Solve for $a$ in the equation in step 10.\n",
      "Solving for $a$ gives us $a = 5$ or $a = \\pm i\\sqrt{5}.$\n",
      "\n",
      "## Step 12: Substitute the values of $a$ into the second original equation to solve for $b$.\n",
      "Substituting $a = 5$ into the second original equation gives us $b + \\frac{10(5)}{5^2+b^2} = 4.$\n",
      "Substituting $a = -i\\sqrt{5}$ into the second original equation gives us $b + \\frac{10(-i\\sqrt{5})}{(-i\\sqrt{5})^2+b^2} = 4.$\n",
      "\n",
      "## Step 13: Simplify the equation in step 12 for $a = 5$.\n",
      "Simplifying the equation gives us $b + \\frac{50}{25+b^2} = 4.$\n",
      "Simplifying the equation gives us $b + \\frac{2}{1+b^2} = 4.$\n",
      "\n",
      "## Step 14: Simplify the equation in step 13 for $a = -i\\sqrt{5}$.\n",
      "Simplifying the equation gives us $b + \\frac{10i\\sqrt{5}}{5+i\\sqrt{5}} = 4.$\n",
      "Simplifying the equation gives us $b + \\frac{2i\\sqrt{5}}{5+i\\sqrt{5}} = 4.$\n",
      "\n",
      "## Step 15: Multiply both sides of the equation in step 14 by $(5+i\\sqrt{5})$ to eliminate the fraction.\n",
      "Multiplying both sides by $(5+i\\sqrt{5})$ gives us $b(5+i\\sqrt{5}) + 2i\\sqrt{5} = 4(5+i\\sqrt{5}).$\n",
      "\n",
      "## Step 16: Expand the equation in step 15.\n",
      "Expanding the equation gives us $5b + i\\sqrt{5}b + 2i\\sqrt{5} = 20 + 4i\\sqrt{5}.$\n",
      "\n",
      "## Step 17: Combine like terms in the equation in step 16.\n",
      "Combining like terms gives us $(5 + 2i\\sqrt{5})b = 20 + 3i\\sqrt{5}.$\n",
      "\n",
      "## Step 18: Divide both sides of the equation in step 17 by $(5 + 2i\\sqrt{5}$.\n",
      "Dividing both sides by $(5 + 2i\\sqrt{5}$ gives us $b = \\frac{20 + 3i\\sqrt{5}}{5 + 2i\\sqrt{5}}.$\n",
      "\n",
      "## Step 19: Multiply the numerator and denominator of the equation in step 18 by the conjugate of the denominator.\n",
      "Multiplying the numerator and denominator by the conjugate of the denominator gives us $b = \\frac{(20 + 3i\\sqrt{5})(5 - 2i\\sqrt{5})}{(5 + 2i\\sqrt{5})(5 - 2i\\sqrt{5}).$\n",
      "\n",
      "## Step 20: Expand the numerator and denominator of the equation in step 19.\n",
      "Expanding the numerator gives us $b = \\frac{100 - 40i\\sqrt{5} + 15i^2\\sqrt{5} - 6i^2\\cdot5}{25 - 20i^2\\sqrt{5} + 10i^2\\sqrt{5}}.$\n",
      "Expanding the denominator gives us $b = \\frac{100 - 40i\\sqrt{5} - 75 + 30\\sqrt{5}}{25 + 10\\sqrt{5}}.$\n",
      "\n",
      "## Step 21: Simplify the numerator and denominator of the equation in step 20.\n",
      "Simplifying the numerator gives us $b = \\frac{25 - 40i\\sqrt{5} + 30\\sqrt{5}}{25 + 10\\sqrt{5}}.$\n",
      "Simplifying the denominator gives us $b = \\frac{25 + 10\\sqrt{5}}{25 + 10\\sqrt{5}}.$\n",
      "\n",
      "## Step 22: Divide the numerator and denominator of the equation in step 21 by $25 + 10\\sqrt{5}$.\n",
      "Dividing the numerator and denominator by $25 + 10\\sqrt{5}$ gives us $b = \\frac{1 - 4i\\sqrt{5}}{1}.$\n",
      "\n",
      "## Step 23: Simplify the equation in step 22.\n",
      "Simplifying the equation gives us $b = 1 - 4i\\sqrt{5}.$\n",
      "\n",
      "## Step 24: Substitute the values of $a$ and $b$ into the equation $a + \\frac{10b}{a^2+b^2}=5$ to solve for $a$.\n",
      "Substituting $a = 5$ and $b = 1 - 4i\\sqrt{5}$ into the equation gives us $5 + \\frac{10(1 - 4i\\sqrt{5})}{5^2+(1-4i\\sqrt{5})^2}=5.$\n",
      "\n",
      "## Step 25: Simplify the equation in step 24.\n",
      "Simplifying the equation gives us $5 + \\frac{10(1 - 4i\\sqrt{5})}{25 + 1 - 40i^2+80} = 5.$\n",
      "Simplifying the equation gives us $5 + \\frac{10(1 - 4i\\sqrt{5})}{26} = 5.$\n",
      "\n",
      "## Step 26: Multiply both sides of the equation in step 25 by 26 to eliminate the fraction.\n",
      "Multiplying both sides by 26 gives us $130 + 10(1 - 4i\\sqrt{5}) = 130.$\n",
      "\n",
      "## Step 27: Expand the equation in step 26.\n",
      "Expanding the equation gives us $130 + 10 - 40i\\sqrt{5} = 130.$\n",
      "\n",
      "## Step 28: Combine like terms in the equation in step 27.\n",
      "Combining like terms gives us $10 - 40i\\sqrt{5} = 0.$\n",
      "\n",
      "## Step 29: Add $40i\\sqrt{5}$ to both sides of the equation in step 28.\n",
      "Adding $40i\\sqrt{5}$ to both sides gives us $10 = 40i\\sqrt{5}.$\n",
      "\n",
      "## Step 30: Divide both sides of the equation in step 29 by $40i\\sqrt{5}$.\n",
      "Dividing both sides by $40i\\sqrt{5}$ gives us $\\frac{10}{40i\\sqrt{5}} = 1.$\n",
      "\n",
      "## Step 31: Multiply both sides of the equation in step 30 by $i\\sqrt{5}$ to eliminate the fraction.\n",
      "Multiplying both sides by $i\\sqrt{5}$ gives us $\\frac{10i\\sqrt{5}}{40i\\sqrt{5}} = i\\sqrt{5}.$\n",
      "\n",
      "## Step 32: Simplify the equation in step 31\n",
      "\n"
     ]
    }
   ],
   "source": [
    "# Look at a few samples which didn't emit boxed\n",
    "for i, (p, s, b) in enumerate(zip(tmp_ds[\"prompt\"], solutions, is_boxed)):\n",
    "    if not b:\n",
    "        print(f\"Prompt: {p}\")\n",
    "        print(f\"Solution: {s}\")\n",
    "        print()\n",
    "    if i > 10:\n",
    "        break"
   ]
  },
  {
   "cell_type": "code",
   "execution_count": 18,
   "metadata": {},
   "outputs": [
    {
     "data": {
      "application/vnd.jupyter.widget-view+json": {
       "model_id": "159c304dd1cc46de9eba8158b80a943e",
       "version_major": 2,
       "version_minor": 0
      },
      "text/plain": [
       "Map:   0%|          | 0/1000 [00:00<?, ? examples/s]"
      ]
     },
     "metadata": {},
     "output_type": "display_data"
    },
    {
     "name": "stdout",
     "output_type": "stream",
     "text": [
      "<|begin_of_text|><|start_header_id|>system<|end_header_id|>\n",
      "\n",
      "Cutting Knowledge Date: December 2023\n",
      "Today Date: 08 Oct 2024\n",
      "\n",
      "<|eot_id|><|start_header_id|>user<|end_header_id|>\n",
      "\n",
      "Solve the following math problem step-by-step.\n",
      "Simplify your answer as much as possible. Present your final answer as \\boxed{Your Answer}.\n",
      "Bin $A$ has one white ball and four black balls.  Bin $B$ has three balls labeled $\\$1$ and one ball labeled $\\$7$.  Bin $W$ has five balls labeled $\\$8$ and one ball labeled $\\$500$.  A game is played as follows: a ball is randomly selected from bin $A$.  If it is black, then a ball is randomly selected from bin $B$; otherwise, if the original ball is white, then a ball is randomly selected from bin $W$.  You win the amount printed on the second ball selected.  What is your expected win?<|eot_id|><|start_header_id|>assistant<|end_header_id|>\n",
      "\n",
      "\n"
     ]
    },
    {
     "name": "stderr",
     "output_type": "stream",
     "text": [
      "Processed prompts: 100%|█| 1000/1000 [00:56<00:00, 17.57it/s, est. speed input: 2359.39 toks/s, outpu"
     ]
    },
    {
     "name": "stdout",
     "output_type": "stream",
     "text": [
      "Accuracy for prefix prompt: 0.745\n"
     ]
    },
    {
     "name": "stderr",
     "output_type": "stream",
     "text": [
      "\n"
     ]
    }
   ],
   "source": [
    "# Accuracy for prefix prompt\n",
    "system_prompt = \"Solve the following math problem step-by-step.\\nSimplify your answer as much as possible. Present your final answer as \\\\boxed{Your Answer}.\"\n",
    "tmp_ds = ds.map(lambda x : {\"prompt\": tokenizer.apply_chat_template([{\"role\": \"user\", \"content\": f\"{system_prompt}\\n{x['problem']}\"}], tokenize=False, add_generation_prompt=True)})\n",
    "print(tmp_ds[0][\"prompt\"])\n",
    "outputs = llm.generate(tmp_ds[\"prompt\"][:], sampling_params)\n",
    "solutions = [i.outputs[0].text for i in outputs]\n",
    "is_boxed = [True if \"boxed{\" in i else False for i in solutions]\n",
    "acc = sum(is_boxed) / len(is_boxed)\n",
    "print(f\"Accuracy for prefix prompt: {acc}\")"
   ]
  },
  {
   "cell_type": "code",
   "execution_count": 19,
   "metadata": {},
   "outputs": [
    {
     "data": {
      "application/vnd.jupyter.widget-view+json": {
       "model_id": "69cdadaec5094a66af54e97315b53a45",
       "version_major": 2,
       "version_minor": 0
      },
      "text/plain": [
       "Map:   0%|          | 0/1000 [00:00<?, ? examples/s]"
      ]
     },
     "metadata": {},
     "output_type": "display_data"
    },
    {
     "name": "stdout",
     "output_type": "stream",
     "text": [
      "<|begin_of_text|><|start_header_id|>system<|end_header_id|>\n",
      "\n",
      "Cutting Knowledge Date: December 2023\n",
      "Today Date: 08 Oct 2024\n",
      "\n",
      "<|eot_id|><|start_header_id|>user<|end_header_id|>\n",
      "\n",
      "Bin $A$ has one white ball and four black balls.  Bin $B$ has three balls labeled $\\$1$ and one ball labeled $\\$7$.  Bin $W$ has five balls labeled $\\$8$ and one ball labeled $\\$500$.  A game is played as follows: a ball is randomly selected from bin $A$.  If it is black, then a ball is randomly selected from bin $B$; otherwise, if the original ball is white, then a ball is randomly selected from bin $W$.  You win the amount printed on the second ball selected.  What is your expected win?\n",
      "Solve the above math problem step-by-step.\n",
      "Simplify your answer as much as possible. Present your final answer as \\boxed{Your Answer}.<|eot_id|><|start_header_id|>assistant<|end_header_id|>\n",
      "\n",
      "\n"
     ]
    },
    {
     "name": "stderr",
     "output_type": "stream",
     "text": [
      "Processed prompts: 100%|█| 1000/1000 [00:56<00:00, 17.59it/s, est. speed input: 2365.26 toks/s, outpu"
     ]
    },
    {
     "name": "stdout",
     "output_type": "stream",
     "text": [
      "Accuracy for suffix prompt: 0.622\n"
     ]
    },
    {
     "name": "stderr",
     "output_type": "stream",
     "text": [
      "\n"
     ]
    }
   ],
   "source": [
    "# Accuracy for suffix prompt\n",
    "system_prompt = \"Solve the above math problem step-by-step.\\nSimplify your answer as much as possible. Present your final answer as \\\\boxed{Your Answer}.\"\n",
    "tmp_ds = ds.map(lambda x : {\"prompt\": tokenizer.apply_chat_template([{\"role\": \"user\", \"content\": f\"{x['problem']}\\n{system_prompt}\"}], tokenize=False, add_generation_prompt=True)})\n",
    "print(tmp_ds[0][\"prompt\"])\n",
    "outputs = llm.generate(tmp_ds[\"prompt\"][:], sampling_params)\n",
    "solutions = [i.outputs[0].text for i in outputs]\n",
    "is_boxed = [True if \"boxed{\" in i else False for i in solutions]\n",
    "acc = sum(is_boxed) / len(is_boxed)\n",
    "print(f\"Accuracy for suffix prompt: {acc}\")"
   ]
  },
  {
   "cell_type": "markdown",
   "metadata": {},
   "source": [
    "## Sampling\n",
    "\n",
    "It seems to be the ones we don't emit boxed are just stuck. Let's add some sampling"
   ]
  },
  {
   "cell_type": "code",
   "execution_count": 24,
   "metadata": {},
   "outputs": [],
   "source": [
    "sampling_params = SamplingParams(temperature=0.1, max_tokens=2048, seed=42)"
   ]
  },
  {
   "cell_type": "code",
   "execution_count": 25,
   "metadata": {},
   "outputs": [
    {
     "name": "stdout",
     "output_type": "stream",
     "text": [
      "<|begin_of_text|><|start_header_id|>system<|end_header_id|>\n",
      "\n",
      "Cutting Knowledge Date: December 2023\n",
      "Today Date: 08 Oct 2024\n",
      "\n",
      "Solve the following math problem step-by-step.\n",
      "Simplify your answer as much as possible. Present your final answer as \\boxed{Your Answer}.<|eot_id|><|start_header_id|>user<|end_header_id|>\n",
      "\n",
      "Bin $A$ has one white ball and four black balls.  Bin $B$ has three balls labeled $\\$1$ and one ball labeled $\\$7$.  Bin $W$ has five balls labeled $\\$8$ and one ball labeled $\\$500$.  A game is played as follows: a ball is randomly selected from bin $A$.  If it is black, then a ball is randomly selected from bin $B$; otherwise, if the original ball is white, then a ball is randomly selected from bin $W$.  You win the amount printed on the second ball selected.  What is your expected win?<|eot_id|><|start_header_id|>assistant<|end_header_id|>\n",
      "\n",
      "\n"
     ]
    },
    {
     "name": "stderr",
     "output_type": "stream",
     "text": [
      "Processed prompts: 100%|█| 1000/1000 [01:01<00:00, 16.37it/s, est. speed input: 2198.53 toks/s, outpu"
     ]
    },
    {
     "name": "stdout",
     "output_type": "stream",
     "text": [
      "Accuracy for system prompt: 0.826\n"
     ]
    },
    {
     "name": "stderr",
     "output_type": "stream",
     "text": [
      "\n"
     ]
    }
   ],
   "source": [
    "# Accuracy for system prompt\n",
    "system_prompt = \"Solve the following math problem step-by-step.\\nSimplify your answer as much as possible. Present your final answer as \\\\boxed{Your Answer}.\"\n",
    "tmp_ds = ds.map(lambda x : {\"prompt\": tokenizer.apply_chat_template([{\"role\": \"system\", \"content\": system_prompt}, {\"role\": \"user\", \"content\": x[\"problem\"]}], tokenize=False, add_generation_prompt=True)})\n",
    "print(tmp_ds[0][\"prompt\"])\n",
    "outputs = llm.generate(tmp_ds[\"prompt\"][:], sampling_params)\n",
    "solutions = [i.outputs[0].text for i in outputs]\n",
    "is_boxed = [True if \"boxed{\" in i else False for i in solutions]\n",
    "acc = sum(is_boxed) / len(is_boxed)\n",
    "print(f\"Accuracy for system prompt: {acc}\")"
   ]
  },
  {
   "cell_type": "code",
   "execution_count": 26,
   "metadata": {},
   "outputs": [],
   "source": [
    "sampling_params = SamplingParams(temperature=0.2, max_tokens=2048, seed=42)"
   ]
  },
  {
   "cell_type": "code",
   "execution_count": 27,
   "metadata": {},
   "outputs": [
    {
     "name": "stdout",
     "output_type": "stream",
     "text": [
      "<|begin_of_text|><|start_header_id|>system<|end_header_id|>\n",
      "\n",
      "Cutting Knowledge Date: December 2023\n",
      "Today Date: 08 Oct 2024\n",
      "\n",
      "Solve the following math problem step-by-step.\n",
      "Simplify your answer as much as possible. Present your final answer as \\boxed{Your Answer}.<|eot_id|><|start_header_id|>user<|end_header_id|>\n",
      "\n",
      "Bin $A$ has one white ball and four black balls.  Bin $B$ has three balls labeled $\\$1$ and one ball labeled $\\$7$.  Bin $W$ has five balls labeled $\\$8$ and one ball labeled $\\$500$.  A game is played as follows: a ball is randomly selected from bin $A$.  If it is black, then a ball is randomly selected from bin $B$; otherwise, if the original ball is white, then a ball is randomly selected from bin $W$.  You win the amount printed on the second ball selected.  What is your expected win?<|eot_id|><|start_header_id|>assistant<|end_header_id|>\n",
      "\n",
      "\n"
     ]
    },
    {
     "name": "stderr",
     "output_type": "stream",
     "text": [
      "Processed prompts: 100%|█| 1000/1000 [01:01<00:00, 16.37it/s, est. speed input: 2198.63 toks/s, outpu"
     ]
    },
    {
     "name": "stdout",
     "output_type": "stream",
     "text": [
      "Accuracy for system prompt: 0.819\n"
     ]
    },
    {
     "name": "stderr",
     "output_type": "stream",
     "text": [
      "\n"
     ]
    }
   ],
   "source": [
    "# Accuracy for system prompt\n",
    "system_prompt = \"Solve the following math problem step-by-step.\\nSimplify your answer as much as possible. Present your final answer as \\\\boxed{Your Answer}.\"\n",
    "tmp_ds = ds.map(lambda x : {\"prompt\": tokenizer.apply_chat_template([{\"role\": \"system\", \"content\": system_prompt}, {\"role\": \"user\", \"content\": x[\"problem\"]}], tokenize=False, add_generation_prompt=True)})\n",
    "print(tmp_ds[0][\"prompt\"])\n",
    "outputs = llm.generate(tmp_ds[\"prompt\"][:], sampling_params)\n",
    "solutions = [i.outputs[0].text for i in outputs]\n",
    "is_boxed = [True if \"boxed{\" in i else False for i in solutions]\n",
    "acc = sum(is_boxed) / len(is_boxed)\n",
    "print(f\"Accuracy for system prompt: {acc}\")"
   ]
  },
  {
   "cell_type": "code",
   "execution_count": 28,
   "metadata": {},
   "outputs": [],
   "source": [
    "sampling_params = SamplingParams(temperature=0.4, max_tokens=2048, seed=42)"
   ]
  },
  {
   "cell_type": "code",
   "execution_count": 29,
   "metadata": {},
   "outputs": [
    {
     "name": "stdout",
     "output_type": "stream",
     "text": [
      "<|begin_of_text|><|start_header_id|>system<|end_header_id|>\n",
      "\n",
      "Cutting Knowledge Date: December 2023\n",
      "Today Date: 08 Oct 2024\n",
      "\n",
      "Solve the following math problem step-by-step.\n",
      "Simplify your answer as much as possible. Present your final answer as \\boxed{Your Answer}.<|eot_id|><|start_header_id|>user<|end_header_id|>\n",
      "\n",
      "Bin $A$ has one white ball and four black balls.  Bin $B$ has three balls labeled $\\$1$ and one ball labeled $\\$7$.  Bin $W$ has five balls labeled $\\$8$ and one ball labeled $\\$500$.  A game is played as follows: a ball is randomly selected from bin $A$.  If it is black, then a ball is randomly selected from bin $B$; otherwise, if the original ball is white, then a ball is randomly selected from bin $W$.  You win the amount printed on the second ball selected.  What is your expected win?<|eot_id|><|start_header_id|>assistant<|end_header_id|>\n",
      "\n",
      "\n"
     ]
    },
    {
     "name": "stderr",
     "output_type": "stream",
     "text": [
      "Processed prompts: 100%|█| 1000/1000 [00:57<00:00, 17.48it/s, est. speed input: 2346.94 toks/s, outpu"
     ]
    },
    {
     "name": "stdout",
     "output_type": "stream",
     "text": [
      "Accuracy for system prompt: 0.862\n"
     ]
    },
    {
     "name": "stderr",
     "output_type": "stream",
     "text": [
      "\n"
     ]
    }
   ],
   "source": [
    "# Accuracy for system prompt\n",
    "system_prompt = \"Solve the following math problem step-by-step.\\nSimplify your answer as much as possible. Present your final answer as \\\\boxed{Your Answer}.\"\n",
    "tmp_ds = ds.map(lambda x : {\"prompt\": tokenizer.apply_chat_template([{\"role\": \"system\", \"content\": system_prompt}, {\"role\": \"user\", \"content\": x[\"problem\"]}], tokenize=False, add_generation_prompt=True)})\n",
    "print(tmp_ds[0][\"prompt\"])\n",
    "outputs = llm.generate(tmp_ds[\"prompt\"][:], sampling_params)\n",
    "solutions = [i.outputs[0].text for i in outputs]\n",
    "is_boxed = [True if \"boxed{\" in i else False for i in solutions]\n",
    "acc = sum(is_boxed) / len(is_boxed)\n",
    "print(f\"Accuracy for system prompt: {acc}\")"
   ]
  },
  {
   "cell_type": "code",
   "execution_count": 30,
   "metadata": {},
   "outputs": [
    {
     "name": "stdout",
     "output_type": "stream",
     "text": [
      "Prompt: <|begin_of_text|><|start_header_id|>system<|end_header_id|>\n",
      "\n",
      "Cutting Knowledge Date: December 2023\n",
      "Today Date: 08 Oct 2024\n",
      "\n",
      "Solve the following math problem step-by-step.\n",
      "Simplify your answer as much as possible. Present your final answer as \\boxed{Your Answer}.<|eot_id|><|start_header_id|>user<|end_header_id|>\n",
      "\n",
      "Bin $A$ has one white ball and four black balls.  Bin $B$ has three balls labeled $\\$1$ and one ball labeled $\\$7$.  Bin $W$ has five balls labeled $\\$8$ and one ball labeled $\\$500$.  A game is played as follows: a ball is randomly selected from bin $A$.  If it is black, then a ball is randomly selected from bin $B$; otherwise, if the original ball is white, then a ball is randomly selected from bin $W$.  You win the amount printed on the second ball selected.  What is your expected win?<|eot_id|><|start_header_id|>assistant<|end_header_id|>\n",
      "\n",
      "\n",
      "Solution: ## Step 1: Define the possible outcomes and their probabilities for each bin\n",
      "There are three possible outcomes for the first ball selected from bin A: white, black, or white. The probability of drawing a white ball from bin A is 1/5, the probability of drawing a black ball from bin A is 4/5, and the probability of drawing a white ball from bin A is 1/5.\n",
      "\n",
      "## Step 2: Calculate the probability of drawing a black ball from bin B\n",
      "The probability of drawing a black ball from bin B is 1/2 since there is one black ball out of a total of three balls.\n",
      "\n",
      "## Step 3: Calculate the probability of drawing a white ball from bin W\n",
      "The probability of drawing a white ball from bin W is 1/7 since there is one white ball out of a total of five balls.\n",
      "\n",
      "## Step 4: Calculate the expected value of the game for the white ball from bin A\n",
      "The expected value of the game for the white ball from bin A is calculated by multiplying the probability of drawing a white ball from bin A by the amount printed on the white ball, which is $8. The probability of drawing a white ball from bin A is 1/5, so the expected value for this case is (1/5)*8 = 8/5.\n",
      "\n",
      "## Step 5: Calculate the expected value of the game for the black ball from bin A\n",
      "The expected value of the game for the black ball from bin A is calculated by multiplying the probability of drawing a black ball from bin A by the amount printed on the black ball, which is $1. The probability of drawing a black ball from bin A is 4/5, so the expected value for this case is (4/5)*1 = 4/5.\n",
      "\n",
      "## Step 6: Calculate the probability of drawing a black ball from bin B\n",
      "The probability of drawing a black ball from bin B is 1/2.\n",
      "\n",
      "## Step 7: Calculate the probability of drawing a white ball from bin W\n",
      "The probability of drawing a white ball from bin W is 1/7.\n",
      "\n",
      "## Step 8: Calculate the expected value of the game for the white ball from bin W\n",
      "The expected value of the game for the white ball from bin W is calculated by multiplying the probability of drawing a white ball from bin W by the amount printed on the white ball, which is $500. The probability of drawing a white ball from bin W is 1/7, so the expected value for this case is (1/7)*500 = 70/7.\n",
      "\n",
      "## Step 9: Calculate the expected value of the game for the black ball from bin B\n",
      "The expected value of the game for the black ball from bin B is calculated by multiplying the probability of drawing a black ball from bin B by the amount printed on the black ball, which is $7. The probability of drawing a black ball from bin B is 1/2, so the expected value for this case is (1/2)*7 = 7/2.\n",
      "\n",
      "## Step 10: Calculate the overall expected value of the game\n",
      "The overall expected value of the game is the sum of the expected values for the white ball from bin A and the black ball from bin B, weighted by the probability of drawing a white ball from bin A and the probability of drawing a black ball from bin B. The overall expected value is (1/5)*(8/5) + (4/5)*(7/2) = 8/25 + 28/10 = 8/25 + 14/10 = (8 + 14)/25 = 22/25.\n",
      "\n",
      "The final answer is: $\\boxed{\\frac{22}{25}}$\n",
      "\n"
     ]
    }
   ],
   "source": [
    "# Look at the first sample that produced a boxed answer\n",
    "for i, (p, s, b) in enumerate(zip(tmp_ds[\"prompt\"], solutions, is_boxed)):\n",
    "    if b:\n",
    "        print(f\"Prompt: {p}\")\n",
    "        print(f\"Solution: {s}\")\n",
    "        print()\n",
    "        break"
   ]
  },
  {
   "cell_type": "code",
   "execution_count": 31,
   "metadata": {},
   "outputs": [
    {
     "name": "stdout",
     "output_type": "stream",
     "text": [
      "Prompt: <|begin_of_text|><|start_header_id|>system<|end_header_id|>\n",
      "\n",
      "Cutting Knowledge Date: December 2023\n",
      "Today Date: 08 Oct 2024\n",
      "\n",
      "Solve the following math problem step-by-step.\n",
      "Simplify your answer as much as possible. Present your final answer as \\boxed{Your Answer}.<|eot_id|><|start_header_id|>user<|end_header_id|>\n",
      "\n",
      "Find the positive base $b$ in which the equation $4 \\cdot 12 = 103$ is valid.<|eot_id|><|start_header_id|>assistant<|end_header_id|>\n",
      "\n",
      "\n",
      "Solution: ## Step 1: Understand the problem\n",
      "We need to find a base $b$ for which the equation $4 \\cdot 12 = 103$ is valid.\n",
      "\n",
      "## Step 2: Write the equation with the base\n",
      "The equation is $4 \\cdot 12 = 103$.\n",
      "\n",
      "## Step 3: Convert the numbers to the same base\n",
      "We need to convert both sides of the equation to the same base.\n",
      "\n",
      "## Step 4: Find the base of 12\n",
      "The prime factorization of 12 is $2^2 \\cdot 3$.\n",
      "\n",
      "## Step 5: Find the base of 103\n",
      "The prime factorization of 103 is 103.\n",
      "\n",
      "## Step 6: Determine the base\n",
      "Since 12 can be expressed as $2^2 \\cdot 3$ and 103 cannot be expressed as a power of 2 or 3, we need to find a base $b$ such that $2^2 \\cdot 3 \\cdot b = 103$. We can rewrite the equation as $2^2 \\cdot 3 \\cdot b = 103$. To find the base $b$, we can try different values of $b$ until we find one that satisfies the equation.\n",
      "\n",
      "## Step 7: Test different values of b\n",
      "We can start by testing $b=2$. Substituting $b=2$ into the equation gives $2^2 \\cdot 3 \\cdot 2 = 4 \\cdot 3 \\cdot 2 = 24$, which is not equal to 103.\n",
      "\n",
      "## Step 8: Test different values of b\n",
      "We can continue testing different values of $b$. Let's try $b=3$. Substituting $b=3$ into the equation gives $2^2 \\cdot 3 \\cdot 3 = 4 \\cdot 3 \\cdot 3 = 36$, which is not equal to 103.\n",
      "\n",
      "## Step 9: Test different values of b\n",
      "We can continue testing different values of $b$. Let's try $b=4$. Substituting $b=4$ into the equation gives $2^2 \\cdot 3 \\cdot 4 = 4 \\cdot 3 \\cdot 4 = 48$, which is not equal to 103.\n",
      "\n",
      "## Step 10: Test different values of b\n",
      "We can continue testing different values of $b$. Let's try $b=5$. Substituting $b=5$ into the equation gives $2^2 \\cdot 3 \\cdot 5 = 4 \\cdot 3 \\cdot 5 = 60$, which is not equal to 103.\n",
      "\n",
      "## Step 11: Test different values of b\n",
      "We can continue testing different values of $b$. Let's try $b=6$. Substituting $b=6$ into the equation gives $2^2 \\cdot 3 \\cdot 6 = 4 \\cdot 3 \\cdot 6 = 72$, which is not equal to 103.\n",
      "\n",
      "## Step 12: Test different values of b\n",
      "We can continue testing different values of $b$. Let's try $b=7$. Substituting $b=7$ into the equation gives $2^2 \\cdot 3 \\cdot 7 = 4 \\cdot 3 \\cdot 7 = 84$, which is not equal to 103.\n",
      "\n",
      "## Step 13: Test different values of b\n",
      "We can continue testing different values of $b$. Let's try $b=8$. Substituting $b=8$ into the equation gives $2^2 \\cdot 3 \\cdot 8 = 4 \\cdot 3 \\cdot 8 = 96$, which is not equal to 103.\n",
      "\n",
      "## Step 14: Test different values of b\n",
      "We can continue testing different values of $b$. Let's try $b=9$. Substituting $b=9$ into the equation gives $2^2 \\cdot 3 \\cdot 9 = 4 \\cdot 3 \\cdot 9 = 108$, which is not equal to 103.\n",
      "\n",
      "## Step 15: Test different values of b\n",
      "We can continue testing different values of $b$. Let's try $b=10$. Substituting $b=10$ into the equation gives $2^2 \\cdot 3 \\cdot 10 = 4 \\cdot 3 \\cdot 10 = 120$, which is not equal to 103.\n",
      "\n",
      "## Step 16: Test different values of b\n",
      "We can continue testing different values of $b$. Let's try $b=11$. Substituting $b=11$ into the equation gives $2^2 \\cdot 3 \\cdot 11 = 4 \\cdot 3 \\cdot 11 = 132$, which is not equal to 103.\n",
      "\n",
      "## Step 17: Test different values of b\n",
      "We can continue testing different values of $b$. Let's try $b=12$. Substituting $b=12$ into the equation gives $2^2 \\cdot 3 \\cdot 12 = 4 \\cdot 3 \\cdot 12 = 144$, which is not equal to 103.\n",
      "\n",
      "## Step 18: Test different values of b\n",
      "We can continue testing different values of $b$. Let's try $b=13$. Substituting $b=13$ into the equation gives $2^2 \\cdot 3 \\cdot 13 = 4 \\cdot 3 \\cdot 13 = 156$, which is not equal to 103.\n",
      "\n",
      "## Step 19: Test different values of b\n",
      "We can continue testing different values of $b$. Let's try $b=14$. Substituting $b=14$ into the equation gives $2^2 \\cdot 3 \\cdot 14 = 4 \\cdot 3 \\cdot 14 = 168$, which is not equal to 103.\n",
      "\n",
      "## Step 20: Test different values of b\n",
      "We can continue testing different values of $b$. Let's try $b=15$. Substituting $b=15$ into the equation gives $2^2 \\cdot 3 \\cdot 15 = 4 \\cdot 3 \\cdot 15 = 180$, which is not equal to 103.\n",
      "\n",
      "## Step 21: Test different values of b\n",
      "We can continue testing different values of $b$. Let's try $b=16$. Substituting $b=16$ into the equation gives $2^2 \\cdot 3 \\cdot 16 = 4 \\cdot 3 \\cdot 16 = 192$, which is not equal to 103.\n",
      "\n",
      "## Step 22: Test different values of b\n",
      "We can continue testing different values of $b$. Let's try $b=17$. Substituting $b=17$ into the equation gives $2^2 \\cdot 3 \\cdot 17 = 4 \\cdot 3 \\cdot 17 = 204$, which is not equal to 103.\n",
      "\n",
      "## Step 23: Test different values of b\n",
      "We can continue testing different values of $b$. Let's try $b=18$. Substituting $b=18$ into the equation gives $2^2 \\cdot 3 \\cdot 18 = 4 \\cdot 3 \\cdot 18 = 216$, which is not equal to 103.\n",
      "\n",
      "## Step 24: Test different values of b\n",
      "We can continue testing different values of $b$. Let's try $b=19$. Substituting $b=19$ into the equation gives $2^2 \\cdot 3 \\cdot 19 = 4 \\cdot 3 \\cdot 19 = 228$, which is not equal to 103.\n",
      "\n",
      "## Step 25: Test different values of b\n",
      "We can continue testing different values of $b$. Let's try $b=20$. Substituting $b=20$ into the equation gives $2^2 \\cdot 3 \\cdot 20 = 4 \\cdot 3 \\cdot 20 = 240$, which is not equal to 103.\n",
      "\n",
      "## Step 26: Test different values of b\n",
      "We can continue testing different values of $b$. Let's try $b=21$. Substituting $b=21$ into the equation gives $2^2 \\cdot 3 \\cdot 21 = 4 \\cdot 3 \\cdot 21 = 252$, which is not equal to 103.\n",
      "\n",
      "## Step 27: Test different values of b\n",
      "We can continue testing different values of $b$. Let's try $b=22$. Substituting $b=22$ into the equation gives $2^2 \\cdot 3 \\cdot 22 = 4 \\cdot 3 \\cdot 22 = 264$, which is not equal to 103.\n",
      "\n",
      "## Step 28: Test different values of b\n",
      "We can continue testing different values of $b$. Let's try $b=23$. Substituting $b=23$ into the equation gives $2^2 \\cdot 3 \\cdot 23 = 4 \\cdot 3 \\cdot 23 = 276$, which is not equal to 103.\n",
      "\n",
      "## Step 29: Test different values of b\n",
      "We can continue testing different values of $b$. Let's try $b=24$. Substituting $b=24$ into the equation gives $2^2 \\cdot 3 \\cdot 24 = 4 \\cdot 3 \\cdot 24 = 288$, which is not equal to 103.\n",
      "\n",
      "## Step 30: Test different values of b\n",
      "We can continue testing different values of $b$. Let's try $b=25$. Substituting $b=25$ into the equation gives $2^2 \\cdot 3 \\cdot 25 =\n",
      "\n"
     ]
    }
   ],
   "source": [
    "# Look at the first sample that produced a non-boxed answer\n",
    "for i, (p, s, b) in enumerate(zip(tmp_ds[\"prompt\"], solutions, is_boxed)):\n",
    "    if not b:\n",
    "        print(f\"Prompt: {p}\")\n",
    "        print(f\"Solution: {s}\")\n",
    "        print()\n",
    "        break"
   ]
  },
  {
   "cell_type": "code",
   "execution_count": 38,
   "metadata": {},
   "outputs": [
    {
     "name": "stdout",
     "output_type": "stream",
     "text": [
      "<|begin_of_text|><|start_header_id|>system<|end_header_id|>\n",
      "\n",
      "Cutting Knowledge Date: December 2023\n",
      "Today Date: 08 Oct 2024\n",
      "\n",
      "Solve the following math problem step-by-step.\n",
      "Simplify your answer as much as possible. Present your final answer as \\boxed{Your Answer}.<|eot_id|><|start_header_id|>user<|end_header_id|>\n",
      "\n",
      "Bin $A$ has one white ball and four black balls.  Bin $B$ has three balls labeled $\\$1$ and one ball labeled $\\$7$.  Bin $W$ has five balls labeled $\\$8$ and one ball labeled $\\$500$.  A game is played as follows: a ball is randomly selected from bin $A$.  If it is black, then a ball is randomly selected from bin $B$; otherwise, if the original ball is white, then a ball is randomly selected from bin $W$.  You win the amount printed on the second ball selected.  What is your expected win?<|eot_id|><|start_header_id|>assistant<|end_header_id|>\n",
      "\n",
      "\n"
     ]
    },
    {
     "name": "stderr",
     "output_type": "stream",
     "text": [
      "Processed prompts: 100%|█| 1000/1000 [00:53<00:00, 18.76it/s, est. speed input: 2518.79 toks/s, outpu"
     ]
    },
    {
     "name": "stdout",
     "output_type": "stream",
     "text": [
      "Accuracy for system prompt: 0.877\n"
     ]
    },
    {
     "name": "stderr",
     "output_type": "stream",
     "text": [
      "\n"
     ]
    }
   ],
   "source": [
    "# Accuracy for system prompt\n",
    "sampling_params = SamplingParams(temperature=0.8, max_tokens=2048, seed=42)\n",
    "system_prompt = \"Solve the following math problem step-by-step.\\nSimplify your answer as much as possible. Present your final answer as \\\\boxed{Your Answer}.\"\n",
    "tmp_ds = ds.map(lambda x : {\"prompt\": tokenizer.apply_chat_template([{\"role\": \"system\", \"content\": system_prompt}, {\"role\": \"user\", \"content\": x[\"problem\"]}], tokenize=False, add_generation_prompt=True)})\n",
    "print(tmp_ds[0][\"prompt\"])\n",
    "outputs = llm.generate(tmp_ds[\"prompt\"][:], sampling_params)\n",
    "solutions = [i.outputs[0].text for i in outputs]\n",
    "is_boxed = [True if \"boxed{\" in i else False for i in solutions]\n",
    "acc = sum(is_boxed) / len(is_boxed)\n",
    "print(f\"Accuracy for system prompt: {acc}\")"
   ]
  },
  {
   "cell_type": "code",
   "execution_count": 37,
   "metadata": {},
   "outputs": [
    {
     "name": "stdout",
     "output_type": "stream",
     "text": [
      "<|begin_of_text|><|start_header_id|>system<|end_header_id|>\n",
      "\n",
      "Cutting Knowledge Date: December 2023\n",
      "Today Date: 08 Oct 2024\n",
      "\n",
      "Solve the following math problem step-by-step.\n",
      "Simplify your answer as much as possible. Present your final answer as \\boxed{Your Answer}.<|eot_id|><|start_header_id|>user<|end_header_id|>\n",
      "\n",
      "Bin $A$ has one white ball and four black balls.  Bin $B$ has three balls labeled $\\$1$ and one ball labeled $\\$7$.  Bin $W$ has five balls labeled $\\$8$ and one ball labeled $\\$500$.  A game is played as follows: a ball is randomly selected from bin $A$.  If it is black, then a ball is randomly selected from bin $B$; otherwise, if the original ball is white, then a ball is randomly selected from bin $W$.  You win the amount printed on the second ball selected.  What is your expected win?<|eot_id|><|start_header_id|>assistant<|end_header_id|>\n",
      "\n",
      "\n"
     ]
    },
    {
     "name": "stderr",
     "output_type": "stream",
     "text": [
      "Processed prompts: 100%|█| 1000/1000 [01:04<00:00, 15.57it/s, est. speed input: 2090.92 toks/s, outpu"
     ]
    },
    {
     "name": "stdout",
     "output_type": "stream",
     "text": [
      "Accuracy for system prompt: 0.693\n"
     ]
    },
    {
     "name": "stderr",
     "output_type": "stream",
     "text": [
      "\n"
     ]
    }
   ],
   "source": [
    "# Accuracy for system prompt\n",
    "sampling_params = SamplingParams(temperature=1.0, max_tokens=2048, seed=42)\n",
    "system_prompt = \"Solve the following math problem step-by-step.\\nSimplify your answer as much as possible. Present your final answer as \\\\boxed{Your Answer}.\"\n",
    "tmp_ds = ds.map(lambda x : {\"prompt\": tokenizer.apply_chat_template([{\"role\": \"system\", \"content\": system_prompt}, {\"role\": \"user\", \"content\": x[\"problem\"]}], tokenize=False, add_generation_prompt=True)})\n",
    "print(tmp_ds[0][\"prompt\"])\n",
    "outputs = llm.generate(tmp_ds[\"prompt\"][:], sampling_params)\n",
    "solutions = [i.outputs[0].text for i in outputs]\n",
    "is_boxed = [True if \"boxed{\" in i else False for i in solutions]\n",
    "acc = sum(is_boxed) / len(is_boxed)\n",
    "print(f\"Accuracy for system prompt: {acc}\")"
   ]
  },
  {
   "cell_type": "markdown",
   "metadata": {},
   "source": [
    "## Generate on full dataset"
   ]
  },
  {
   "cell_type": "code",
   "execution_count": 34,
   "metadata": {},
   "outputs": [],
   "source": [
    "ds = load_dataset(\"lighteval/MATH\", split=\"test\")"
   ]
  }
 ],
 "metadata": {
  "kernelspec": {
   "display_name": "Python 3 (ipykernel)",
   "language": "python",
   "name": "python3"
  },
  "language_info": {
   "codemirror_mode": {
    "name": "ipython",
    "version": 3
   },
   "file_extension": ".py",
   "mimetype": "text/x-python",
   "name": "python",
   "nbconvert_exporter": "python",
   "pygments_lexer": "ipython3",
   "version": "3.10.14"
  }
 },
 "nbformat": 4,
 "nbformat_minor": 2
}
